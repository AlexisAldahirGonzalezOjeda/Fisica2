{
 "cells": [
  {
   "cell_type": "code",
   "execution_count": 2,
   "metadata": {
    "collapsed": false
   },
   "outputs": [
    {
     "data": {
      "image/png": "[encoded data removed]",
      "text/plain": [
       "<matplotlib.figure.Figure at 0x26f99370e10>"
      ]
     },
     "metadata": {},
     "output_type": "display_data"
    }
   ],
   "source": [
    "# Importamos librerias necesarias\n",
    "# SciPy, SciPy,integrate: librerías para solución por Runge-Kutta 4,5 de la ecuación.\n",
    "# Matplotlib: para graficar función solución (theta(t))\n",
    "# Numpy: Matemáticas y trabajo matricial.\n",
    "import scipy, scipy.integrate\n",
    "import matplotlib as mpl\n",
    "import matplotlib.pyplot as plt\n",
    "import numpy as np\n",
    " \n",
    "# Se define ecuación diferencial como sistema de dos\n",
    "# ecuaciones de primer orden.\n",
    "def dydt(t,y):\n",
    "    theta,thetaPrima = y\n",
    "    thetaPrimaPrima = (n) /(1 - e* scipy.cos(theta))\n",
    "    return [thetaPrima,thetaPrimaPrima]\n",
    " \n",
    "# Definimos unas constantes a manera de ejemplo.\n",
    "# g: aceleración de la gravedad.\n",
    "# L: longitud del péndulo\n",
    "# theta0: ángulo desde el que se suelta el péndulo.\n",
    "# thetaPrima0: velocidad inicial con la que se suelta.\n",
    "  \n",
    "n = 3/2\n",
    "e = 0.093\n",
    "theta0 = 0 # Ángulo inicial: 90 grados.\n",
    "thetaPrima0 = 0.0\n",
    "  \n",
    "solucionador = scipy.integrate.ode(dydt)\n",
    "# 'dopri5' es para indicarle al solucionador que resuelva\n",
    "# la ecuación por el método de Runge-Kutta 4,5\n",
    "solucionador.set_integrator('dopri5') \n",
    "# .set_f_params es la función para pasarle\n",
    "# los argumentos adicionales a la ecuación diferencial.\n",
    "# Para nuestro caso, la longitud del péndulo\n",
    "\n",
    "# Le indicamos al solucionador el valor inicial del problema.\n",
    "# theta0: ángulo desde el que se suelta el péndulo.\n",
    "# thetaPrima0: velocidad inicial con la que se suelta.\n",
    "solucionador.set_initial_value([theta0,thetaPrima0] , 0)\n",
    " \n",
    "thetas = [] # Crear vector vacío de ordenadas.\n",
    "dt = 0.01 # Pequeño intervalo delta de t.\n",
    "while solucionador.successful() and solucionador.t < 10:\n",
    "    solucionador.integrate(solucionador.t+dt)\n",
    "    thetas.append(solucionador.y[0]*180/scipy.pi) # Llenar el vector de ordenadas con valor de theta\n",
    " \n",
    "# Creamos vector de abscisas de tiempo.\n",
    "t=[]\n",
    "for i in range(len(thetas)):\n",
    "    t.append(i*dt)\n",
    " \n",
    "fig = plt.figure() # Creamos una nuevo gráfico con Matplotlib.\n",
    "plt.plot(t,thetas) # Graficamos el vector de abscisas vs el vector de ordenadas.\n",
    "plt.xlabel('tiempo (s)') # Título eje x\n",
    "plt.ylabel('Anomalia media(s)') # Título eje y\n",
    "plt.show() # Mostramos el gráfico en pantalla.\n"
   ]
  }
 ],
 "metadata": {
  "kernelspec": {
   "display_name": "Python 3",
   "language": "python",
   "name": "python3"
  },
  "language_info": {
   "codemirror_mode": {
    "name": "ipython",
    "version": 3
   },
   "file_extension": ".py",
   "mimetype": "text/x-python",
   "name": "python",
   "nbconvert_exporter": "python",
   "pygments_lexer": "ipython3",
   "version": "3.6.0"
  }
 },
 "nbformat": 4,
 "nbformat_minor": 2
}
