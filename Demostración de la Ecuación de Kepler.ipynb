{
 "cells": [
  {
   "cell_type": "markdown",
   "metadata": {},
   "source": [
    "# 1. Demostracion analitica:"
   ]
  },
  {
   "cell_type": "markdown",
   "metadata": {},
   "source": [
    "Dado el promedio de la velocidad angular, o movimiento medio:\n",
    "    \n",
    "$n=\\displaystyle{3 \\over 2}$\n",
    "\n",
    "Podemos definir la Anomalia Media M por:\n",
    "    \n",
    "$M = n(t - \\tau)$\n",
    "\n",
    "\n",
    "La ecuación en coordenadas rectangulares de una elipse centrada en el origen es:\n",
    "\n",
    "$(\\displaystyle\\frac{x}{a})^2 + (\\displaystyle\\frac{y}{b})^2 = 1$\n",
    "\n",
    "De la figura se obtiene que:\n",
    "\n",
    "$x = a(cosE - e)\\hspace{1cm},\\hspace{1cm}y = b(senE)$\n",
    "\n",
    "Donde e es la excentricidad de la elipse\n",
    "\n",
    "Al elevar al cuadrado la expresion para y:$\\hspace{1cm}$$y^2 = b^2sen^2E$\n",
    "\n",
    "Podemos remplazar $b^2$ para obtener:$\\hspace{1cm}$$y^2 = a^2(1-e^2)sen^2E$ \n",
    "\n",
    "Y despejando y, se obtiene:$\\hspace{1cm}$$y = a\\sqrt{1-e^2}senE$ \n",
    "\n",
    "Sumando el cuadrado de estas dos expresiones y sacando su raiz cuadrada:\n",
    "\n",
    "$r = a(1 - ecosE)$\n",
    "\n",
    "Y reemplazando el valor de r, y despejando:\n",
    "\n",
    "$cosf = \\displaystyle{cosE - e \\over 1 - ecosE}$\n",
    "\n",
    "Nosotros podemos relacionar E y f escribiendo:\n",
    "\n",
    "$1 - cosf = \\displaystyle{(1 + e)(1 - cosE) \\over 1 - ecosE}\\hspace{1cm},\\hspace{1cm}1 + cosf = \\displaystyle{(1 - e)(1 + cosE) \\over 1 - ecosE}$\n",
    "\n",
    "Usando la formula del angulo doble estas dos expresiones se pueden escribir por:\n",
    "\n",
    "$2sen^2\\displaystyle\\frac{f}{2} = \\displaystyle{1 + e \\over 1 - ecosE}2sen^2\\displaystyle\\frac{E}{2}\\hspace{1cm},\\hspace{1cm}2cos^2\\displaystyle\\frac{f}{2} = \\displaystyle{1 - e \\over 1 - ecosE}2cos^2\\displaystyle\\frac{E}{2}$\n",
    "\n",
    "Y por lo tanto:\n",
    "\n",
    "$tan\\displaystyle\\frac{f}{2} = \\sqrt{\\displaystyle{1 + e \\over 1 - e}}tan\\displaystyle\\frac{E}{2}$\n",
    "\n",
    "Entonces, conocido E, nosotros podemos determinar r y f de las anteriores ecuaciones, y ya que E y f siempre estan en la misma mitad de la elipse. Sin embargo para localizar la orbita de un cuerpo en un tiempo t, nosotros debemos encontrar una relacion entre M y E.\n",
    "\n",
    "Usando $v^2 = \\dot r^2 + (r\\dot f)^2$ y de laS anteriores ecuaciones nosotros obtenemos:\n",
    "\n",
    "$\\dot r^2 = n^2a^3(\\displaystyle\\frac{2}{r} - \\displaystyle\\frac{1}{a}) - \\displaystyle\\frac{n^2a^4(1 - e^2)}{r^2}$\n",
    "\n",
    "Por lo tanto:\n",
    "\n",
    "$\\displaystyle\\frac{dr}{dt} = \\displaystyle\\frac{na}{r}\\sqrt{a^2e^2 - (r - a)^2}$\n",
    "\n",
    "Esta expresion puede ser integrada usando la sustitucion: $r - a = -aecosE$\n",
    "\n",
    "De las anteriores ecuaciones podemos escribir:\n",
    "\n",
    "$\\displaystyle\\frac{dE}{dt} = \\displaystyle\\frac{n}{1 - ecosE}$\n",
    "\n",
    "Integrando la anterior ecuacion: \n",
    "\n",
    "$n(t - \\tau) = E - esenE$\n",
    "\n",
    "De donde nosotros podemos tomar a $\\tau$ como la constante de integracion, y utilizando la condicion inicial E = 0 cuando t = \\tau, obtenemos:\n",
    "\n",
    "$M = E - esenE$\n",
    "\n",
    "Esta es la $\\textit{Ecuacion de Kepkler}$ que es fundamental en la solucion de problemas de encontrar orbitas en un tiempo dado."
   ]
  },
  {
   "cell_type": "markdown",
   "metadata": {},
   "source": [
    "# 2. Solucion numerica:"
   ]
  },
  {
   "cell_type": "markdown",
   "metadata": {},
   "source": [
    "# 2.1 Metodo de Runge Kuta:"
   ]
  },
  {
   "cell_type": "code",
   "execution_count": 6,
   "metadata": {
    "collapsed": false
   },
   "outputs": [
    {
     "data": {
      "text/html": [
       "<iframe src=https://docs.google.com/document/d/1IEPx2p4r_dswxrwztu0_1hg252DroKu0cazdYQ1QmXU/edit width=800px height=400px >"
      ],
      "text/plain": [
       "<IPython.core.display.HTML object>"
      ]
     },
     "execution_count": 6,
     "metadata": {},
     "output_type": "execute_result"
    }
   ],
   "source": [
    "from IPython.display import HTML\n",
    "HTML('<iframe src=https://docs.google.com/document/d/1IEPx2p4r_dswxrwztu0_1hg252DroKu0cazdYQ1QmXU/edit width=800px height=400px >')"
   ]
  },
  {
   "cell_type": "markdown",
   "metadata": {},
   "source": [
    "# 2.2 Metodo de Newton Raphson:"
   ]
  },
  {
   "cell_type": "code",
   "execution_count": 18,
   "metadata": {
    "collapsed": false
   },
   "outputs": [
    {
     "name": "stdout",
     "output_type": "stream",
     "text": [
      "la anomalia excentrica es\n",
      "109.81655752964762\n"
     ]
    }
   ],
   "source": [
    "\n",
    "from mpl_toolkits.mplot3d import Axes3D\n",
    "from matplotlib.mlab import griddata\n",
    "from matplotlib import cm\n",
    "from matplotlib.ticker import LinearLocator, FormatStrFormatter\n",
    "import matplotlib.pyplot as plt\n",
    "import numpy as np\n",
    "import sys\n",
    "import math\n",
    "\n",
    "M = 1.829166028\n",
    "e = 0.093\n",
    "E = M\n",
    "\n",
    "for i in range(10):\n",
    "    E = E - ((E-e*math.sin(E)- M)/(1-e*math.cos(E)))\n",
    "E = E*180/3.14159\n",
    "print(\"la anomalia excentrica es\")\n",
    "print(E)"
   ]
  },
  {
   "cell_type": "code",
   "execution_count": null,
   "metadata": {
    "collapsed": true
   },
   "outputs": [],
   "source": []
  }
 ],
 "metadata": {
  "kernelspec": {
   "display_name": "Python 3",
   "language": "python",
   "name": "python3"
  },
  "language_info": {
   "codemirror_mode": {
    "name": "ipython",
    "version": 3
   },
   "file_extension": ".py",
   "mimetype": "text/x-python",
   "name": "python",
   "nbconvert_exporter": "python",
   "pygments_lexer": "ipython3",
   "version": "3.6.0"
  }
 },
 "nbformat": 4,
 "nbformat_minor": 2
}
